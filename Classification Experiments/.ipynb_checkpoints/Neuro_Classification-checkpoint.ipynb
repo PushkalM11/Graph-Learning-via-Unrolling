{
 "cells": [
  {
   "cell_type": "code",
   "execution_count": 1,
   "metadata": {},
   "outputs": [
    {
     "name": "stdout",
     "output_type": "stream",
     "text": [
      "/Users/pushkalm11/miniconda3/envs/unrolling/bin/python\n"
     ]
    }
   ],
   "source": [
    "!which python"
   ]
  },
  {
   "cell_type": "code",
   "execution_count": 2,
   "metadata": {},
   "outputs": [
    {
     "name": "stdout",
     "output_type": "stream",
     "text": [
      "TF Version: 2.14.0\n"
     ]
    }
   ],
   "source": [
    "import matplotlib.pyplot as plt\n",
    "import numpy as np\n",
    "from numpy import linalg as LA\n",
    "from numpy.linalg import matrix_power as MP\n",
    "\n",
    "import random\n",
    "import scipy\n",
    "from scipy.spatial.distance import cdist\n",
    "from scipy.io import savemat, loadmat\n",
    "\n",
    "import networkx as nx\n",
    "import sys\n",
    "\n",
    "import tensorflow as tf\n",
    "\n",
    "print(f\"TF Version: {tf.__version__}\")"
   ]
  },
  {
   "cell_type": "code",
   "execution_count": 13,
   "metadata": {},
   "outputs": [],
   "source": [
    "ADHD_data = [np.array(d) for d in loadmat(\"./Dataset/ADHD_Data.mat\")['ADHD_Data'][0, :]]\n",
    "ADHD_label = [0] * 20 + [1] * 20 # 0 - Control, 1 - ADHD\n",
    "\n",
    "OpenNEURO_dataset = loadmat(\"./Dataset/OpenNERO_32_and_132_data.mat\")\n",
    "OpenNEURO_dataset_132 = OpenNEURO_dataset['OpenNERO_132_roidata']\n",
    "OpenNEURO_dataset_32 = OpenNEURO_dataset['OpenNERO_32_roidata']\n",
    "\n",
    "COBRE_dataset = loadmat(\"./Dataset/COBRE_ROIdata_for_132_and_32_ROIs.mat\")\n",
    "COBRE_dataset_132 = COBRE_dataset['COBRE_ROIdata_132']\n",
    "COBRE_dataset_32 = COBRE_dataset['COBRE_ROIdata_32']"
   ]
  },
  {
   "cell_type": "code",
   "execution_count": 4,
   "metadata": {},
   "outputs": [],
   "source": [
    "def generate_delta(T):\n",
    "    diff_matrix = np.zeros([T, T - 1]) - np.eye(T, T - 1)\n",
    "    for i in range(1, T):\n",
    "        diff_matrix[i, i - 1] = 1\n",
    "    return tf.convert_to_tensor(diff_matrix, dtype = \"float32\")"
   ]
  }
 ],
 "metadata": {
  "kernelspec": {
   "display_name": "Python 3 (ipykernel)",
   "language": "python",
   "name": "python3"
  },
  "language_info": {
   "codemirror_mode": {
    "name": "ipython",
    "version": 3
   },
   "file_extension": ".py",
   "mimetype": "text/x-python",
   "name": "python",
   "nbconvert_exporter": "python",
   "pygments_lexer": "ipython3",
   "version": "3.10.13"
  }
 },
 "nbformat": 4,
 "nbformat_minor": 4
}
