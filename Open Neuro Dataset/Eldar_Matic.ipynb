{
 "cells": [
  {
   "cell_type": "code",
   "execution_count": null,
   "metadata": {},
   "outputs": [],
   "source": [
    "!which python"
   ]
  },
  {
   "cell_type": "code",
   "execution_count": null,
   "metadata": {},
   "outputs": [],
   "source": [
    "import matplotlib.pyplot as plt\n",
    "import numpy as np\n",
    "from numpy import linalg as LA\n",
    "from numpy.linalg import matrix_power as MP"
   ]
  },
  {
   "cell_type": "code",
   "execution_count": null,
   "metadata": {},
   "outputs": [],
   "source": [
    "import random\n",
    "import scipy\n",
    "from scipy.spatial.distance import cdist\n",
    "from scipy.io import savemat, loadmat"
   ]
  },
  {
   "cell_type": "code",
   "execution_count": null,
   "metadata": {},
   "outputs": [],
   "source": [
    "import networkx as nx\n",
    "import sys"
   ]
  },
  {
   "cell_type": "code",
   "execution_count": null,
   "metadata": {},
   "outputs": [],
   "source": [
    "import tensorflow as tf\n",
    "from tensorflow.keras import initializers\n",
    "from tensorflow.keras.layers import Flatten, Dense\n",
    "from keras import backend as K\n",
    "from keras.callbacks import EarlyStopping"
   ]
  },
  {
   "cell_type": "code",
   "execution_count": null,
   "metadata": {},
   "outputs": [],
   "source": [
    "print(f\"TF Version: {tf.__version__}\")"
   ]
  },
  {
   "cell_type": "code",
   "execution_count": null,
   "metadata": {},
   "outputs": [],
   "source": [
    "X_train = loadmat('./Dataset/X_train.mat')['X']\n",
    "Adj_matrix = loadmat('./Dataset/Matic.mat')['A']\n",
    "\n",
    "N, T = X_train.shape"
   ]
  },
  {
   "cell_type": "code",
   "execution_count": null,
   "metadata": {},
   "outputs": [],
   "source": [
    "dt = np.zeros([T - 1, T])\n",
    "\n",
    "for i in range(T - 1):\n",
    "    dt[i, i] = -1\n",
    "    dt[i, i - 1] = 1\n",
    "\n",
    "d = dt.T\n",
    "d = np.concatenate((d, np.zeros([T, 1])), axis = 1) \n",
    "d[T - 1, T - 1] = -1\n",
    "d = d.T\n",
    "d[T - 1, T - 1] = 1 \n",
    "d[-1, -2] = 1\n",
    "d[0, -1] = 0\n",
    "d = tf.convert_to_tensor(d, dtype = \"float32\")\n",
    "print(d)"
   ]
  },
  {
   "cell_type": "code",
   "execution_count": null,
   "metadata": {},
   "outputs": [],
   "source": [
    "def adj_to_laplacian(AdjL):\n",
    "    tmp = np.array(AdjL, dtype = \"float32\")\n",
    "    return np.diag(np.sum(tmp, axis = 0)) - tmp"
   ]
  },
  {
   "cell_type": "code",
   "execution_count": null,
   "metadata": {},
   "outputs": [],
   "source": [
    "psi_cost = 0\n",
    "test_list = []"
   ]
  },
  {
   "cell_type": "code",
   "execution_count": null,
   "metadata": {},
   "outputs": [],
   "source": [
    "# A - Predicted, B - Target matrix\n",
    "def costfunc(A, B):\n",
    "    # (y_true, y_pred)\n",
    "    # print(A.shape)\n",
    "    # print(B.shape)\n",
    "    return (tf.norm(tf.multiply(psi_cost, (A - B)))) ** 2\n",
    "\n",
    "# def costfunc(A, B):\n",
    "#     return (tf.norm(tf.multiply(psi_cost, (A - B))) ** 2) + (reg * tf.norm(HLG @ B @ GLT) ** 2 / 2)\n",
    "\n",
    "def mse_unknown(A, B):\n",
    "\n",
    "    global psi_cost\n",
    "    psi = psi_cost\n",
    "\n",
    "    psid = tf.convert_to_tensor(np.ones([N, T], dtype = float) - psi, dtype = \"float32\")\n",
    "    mse_unk = (LA.norm(np.multiply(psid, (X_train - B)))) ** 2 / np.sum(psid.numpy().flatten())\n",
    "    \n",
    "    global mse_unknown_list\n",
    "    mse_unknown_list.append(mse_unk)\n",
    "    \n",
    "    return mse_unk\n",
    "\n",
    "def mse_known(A, B):\n",
    "\n",
    "    global psi_cost \n",
    "    psi = psi_cost\n",
    "\n",
    "    mse_kn = (LA.norm(np.multiply(psi, (X_train - B)))) ** 2 / np.sum(psi.numpy().flatten())\n",
    "    \n",
    "    global mse_known_list\n",
    "    mse_known_list.append(mse_kn)\n",
    "\n",
    "    return mse_kn"
   ]
  },
  {
   "cell_type": "code",
   "execution_count": null,
   "metadata": {},
   "outputs": [],
   "source": [
    "callb = EarlyStopping(monitor = 'loss', mode = 'min', min_delta = 0.00001, verbose = 1, patience = 10)\n",
    "\n",
    "def scheduler(epoch, lr):\n",
    "    if epoch < 10:\n",
    "        return lr\n",
    "    else:\n",
    "        return lr / lr_decay_factor\n",
    "\n",
    "lr_scheduler = tf.keras.callbacks.LearningRateScheduler(scheduler)"
   ]
  },
  {
   "cell_type": "code",
   "execution_count": null,
   "metadata": {},
   "outputs": [],
   "source": [
    "class EldarModel(tf.keras.Model):\n",
    "    \n",
    "    def __init__(self, Laplacian, reg_init, loops_init, d_init, **kwargs):\n",
    "        super(EldarModel, self).__init__(**kwargs)\n",
    "        p_init = 20.0\n",
    "        self.p1_init = tf.constant(p_init, shape = (1, 1), dtype = \"float32\")\n",
    "        self.p1 = tf.Variable(initial_value = self.p1_init, trainable = True, name = \"p1\")\n",
    "        self.p2_init = tf.constant(p_init, shape = (1, 1), dtype = \"float32\")\n",
    "        self.p2 = tf.Variable(initial_value = self.p2_init, trainable = True, name = \"p2\")\n",
    "        self.p3_init = tf.constant(p_init, shape = (1, 1), dtype = \"float32\")\n",
    "        self.p3 = tf.Variable(initial_value = self.p3_init, trainable = True, name = \"p3\")\n",
    "        self.p4_init = tf.constant(p_init, shape = (1, 1), dtype = \"float32\")\n",
    "        self.p4 = tf.Variable(initial_value = self.p4_init, trainable = True, name = \"p4\")\n",
    "        \n",
    "        self.lap = Laplacian\n",
    "        self.reg = reg_init\n",
    "        self.loops = loops_init\n",
    "        self.d_matrix = d_init\n",
    "        \n",
    "    def call(self, y):\n",
    "        \n",
    "        psi = y[0, :, T:]\n",
    "        global psi_cost\n",
    "        psi_cost = psi\n",
    "        \n",
    "        psi = tf.convert_to_tensor(psi, dtype = \"float32\")\n",
    "        \n",
    "        X_in = y[0, :, : T]\n",
    "        X_in = tf.convert_to_tensor(X_in, dtype = \"float32\")\n",
    "        \n",
    "        Y = X_in\n",
    "        \n",
    "        LG, reg, loop, d = self.lap, self.reg, self.loops, self.d_matrix\n",
    "        \n",
    "        LT = tf.matmul(tf.transpose(d), d)\n",
    "        LT = tf.convert_to_tensor(LT, dtype = \"float32\")\n",
    "        \n",
    "        HLG = tf.eye(tf.shape(LG)[0], dtype = \"float32\") \n",
    "        GLT = LT + (self.p1 * MP(LT, 2)) + (self.p2 * MP(LT, 3)) + (self.p3 * MP(LT, 4)) + (self.p4 * MP(LT, 5))\n",
    "        \n",
    "        Xk = tf.zeros_like(X_in)\n",
    "        Zk = tf.zeros_like(X_in)\n",
    "        Zk = -(tf.multiply(psi, Xk) - Y + (reg * (HLG @ Xk @ GLT)))\n",
    "        \n",
    "        for i in range(loop):\n",
    "            fdx_xk = tf.multiply(psi, Xk) - Y + (reg * (HLG @ Xk @ GLT))\n",
    "            fdx_zk = tf.multiply(psi, Zk) - Y + (reg * (HLG @ Zk @ GLT))\n",
    "            \n",
    "            tau = tf.linalg.trace(tf.transpose(fdx_xk) @ Zk) / tf.linalg.trace(tf.transpose((Y + fdx_zk)) @ Zk)\n",
    "            \n",
    "            Xk_1 = Xk - (tau * Zk)\n",
    "            \n",
    "            fdx_xk_1 = tf.multiply(psi, Xk_1) - Y + (reg * (HLG @ Xk_1 @ GLT))\n",
    "            \n",
    "            gamma = (tf.norm(fdx_xk_1) ** 2) / (tf.norm(fdx_xk) ** 2)\n",
    "            \n",
    "            Zk_1 = (gamma * Zk) - fdx_xk_1\n",
    "            \n",
    "            Xk = Xk_1\n",
    "            Zk = Zk_1\n",
    "        \n",
    "        global test_list\n",
    "        test_list.append(Xk_1.numpy())\n",
    "        \n",
    "        return tf.reshape(Xk_1, [1, N, T])"
   ]
  },
  {
   "cell_type": "code",
   "execution_count": null,
   "metadata": {},
   "outputs": [],
   "source": [
    "no_of_psi = 20\n",
    "Laplacian = adj_to_laplacian(Adj_matrix)\n",
    "\n",
    "# sensing_ratio = [0.01, 0.05, 0.10, 0.15, 0.20, 0.25, 0.30, 0.35, 0.4, 0.45, 0.5]\n",
    "sensing_ratio = list(np.arange(0.01, 0.51, 0.01))\n",
    "\n",
    "# reg_list = np.load(\"./Outputs/eldar_GT_reg.npy\")\n",
    "# loops_list = np.load(\"./Outputs/eldar_GT_loops.npy\")\n",
    "\n",
    "reg_list = [1.0e-5] * len(sensing_ratio)\n",
    "loops_list = [50] * len(sensing_ratio)\n",
    "\n",
    "all_psi = []\n",
    "\n",
    "mse_known_list = []\n",
    "mse_unknown_list = []\n",
    "\n",
    "learned_variables = []\n",
    "\n",
    "lr_decay_factor = 1.01"
   ]
  },
  {
   "cell_type": "code",
   "execution_count": null,
   "metadata": {
    "scrolled": true
   },
   "outputs": [],
   "source": [
    "for i_sen, rem in enumerate(sensing_ratio):\n",
    "    \n",
    "    print(f\"\\n\\n###########################################################################################\")\n",
    "    print(f\"################################### Sensing Ratio: {rem * 100}% ###################################\")\n",
    "    print(f\"###########################################################################################\\n\\n\")\n",
    "    \n",
    "    if i_sen == 0:\n",
    "        M = int(rem * T)\n",
    "        X_train_missing = np.zeros([no_of_psi, N, T])\n",
    "        X_train_concatenated = np.zeros([no_of_psi, N, 2*T])\n",
    "    \n",
    "        for i in range(no_of_psi):\n",
    "            psi_k = np.array([0] * (N * M) + [1] * (N * (T - M)))\n",
    "            np.random.shuffle(psi_k)\n",
    "            psi_k = psi_k.reshape([N, T])\n",
    "            all_psi.append(psi_k)\n",
    "            X_train_missing[i, : , : ] = X_train * psi_k\n",
    "            X_train_concatenated[i, :, :] = np.concatenate((X_train_missing[i], psi_k), axis = 1)\n",
    "    \n",
    "    else:\n",
    "        previous_psi = all_psi[-no_of_psi : ]\n",
    "        X_train_missing = np.zeros([no_of_psi, N, T])\n",
    "        X_train_concatenated = np.zeros([no_of_psi, N, 2 * T])\n",
    "        \n",
    "        rem_diff = int(N * (rem - sensing_ratio[i_sen - 1]) * T)\n",
    "        \n",
    "        for i in range(no_of_psi):\n",
    "            psi_k_tmp = np.array(previous_psi[i]).flatten()\n",
    "            ones_idx = np.where(psi_k_tmp == 1)\n",
    "            \n",
    "            ones_to_zero_idx = np.random.choice(ones_idx[0], size = rem_diff)\n",
    "            psi_k_tmp[ones_to_zero_idx] = 0\n",
    "            psi_k = psi_k_tmp\n",
    "            \n",
    "            psi_k = psi_k.reshape([N, T])\n",
    "            all_psi.append(psi_k)\n",
    "            X_train_missing[i, : , : ] = X_train * psi_k\n",
    "            X_train_concatenated[i, :, :] = np.concatenate((X_train_missing[i], psi_k), axis = 1)\n",
    "        \n",
    "    reg_init = reg_list[i_sen]\n",
    "    loops_init = loops_list[i_sen]\n",
    "    \n",
    "    sgd_optimizer = tf.keras.optimizers.SGD(learning_rate = 1.0e-3, momentum = 0.1)\n",
    "    \n",
    "    eldar_model = EldarModel(Laplacian, reg_init, loops_init, d, name = 'EM')\n",
    "    eldar_model.compile(optimizer = sgd_optimizer, loss = costfunc, \n",
    "                        metrics = [mse_known, mse_unknown], run_eagerly = True)\n",
    "    eldar_model.fit(X_train_concatenated, X_train_missing, epochs = 100, \n",
    "                    callbacks = [lr_scheduler], batch_size = 1)\n",
    "    eldar_model.summary()\n",
    "    \n",
    "    all_variables = eldar_model.variables\n",
    "    \n",
    "    graph_vars = [i.numpy()[0, 0] for i in all_variables]\n",
    "    learned_variables.append(graph_vars)\n",
    "    \n",
    "    print(f\"Learned Variables: {graph_vars}\")"
   ]
  },
  {
   "cell_type": "code",
   "execution_count": null,
   "metadata": {},
   "outputs": [],
   "source": [
    "for i, rem in enumerate(sensing_ratio):\n",
    "    print(f\"For {int(100 * rem)}% sensing ratio: {learned_variables[i]}\")"
   ]
  },
  {
   "cell_type": "code",
   "execution_count": null,
   "metadata": {},
   "outputs": [],
   "source": [
    "np.save('./Outputs/eldar_matic_mse_known.npy', mse_known_list)\n",
    "np.save('./Outputs/eldar_matic_mse_unknown.npy', mse_unknown_list)"
   ]
  }
 ],
 "metadata": {
  "kernelspec": {
   "display_name": "Python 3 (ipykernel)",
   "language": "python",
   "name": "python3"
  },
  "language_info": {
   "codemirror_mode": {
    "name": "ipython",
    "version": 3
   },
   "file_extension": ".py",
   "mimetype": "text/x-python",
   "name": "python",
   "nbconvert_exporter": "python",
   "pygments_lexer": "ipython3",
   "version": "3.10.13"
  }
 },
 "nbformat": 4,
 "nbformat_minor": 4
}
