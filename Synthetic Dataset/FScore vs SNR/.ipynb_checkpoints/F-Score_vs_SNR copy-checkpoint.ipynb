{
 "cells": [
  {
   "cell_type": "code",
   "execution_count": 1,
   "id": "4a32b303",
   "metadata": {},
   "outputs": [],
   "source": [
    "import numpy as np\n",
    "import seaborn as sns\n",
    "from scipy.io import loadmat\n",
    "import matplotlib.pyplot as plt\n",
    "from sklearn.metrics import f1_score"
   ]
  },
  {
   "cell_type": "code",
   "execution_count": 2,
   "id": "657fbc39",
   "metadata": {},
   "outputs": [
    {
     "name": "stdout",
     "output_type": "stream",
     "text": [
      "(260, 20, 20)\n"
     ]
    }
   ],
   "source": [
    "learned_graphs = np.load('./Outputs/snr_learned_graph.npy')\n",
    "ground_truth_adj = np.array(loadmat('./Dataset/Adj.mat')['A_Ground'])\n",
    "flattened_adj = ground_truth_adj.flatten()\n",
    "\n",
    "print(learned_graphs.shape)"
   ]
  },
  {
   "cell_type": "code",
   "execution_count": 3,
   "id": "b115bf56",
   "metadata": {},
   "outputs": [],
   "source": [
    "SNR_list = np.arange(0.0, 61.0, 5.0)\n",
    "\n",
    "n_snr = len(SNR_list)\n",
    "\n",
    "sensing_ratio = (100 * np.array([0.10])).astype(\"int\")\n",
    "\n",
    "epochs = 20\n",
    "n_data = 1\n",
    "n_pts = epochs * n_data"
   ]
  },
  {
   "cell_type": "code",
   "execution_count": 4,
   "id": "8cf36a5b",
   "metadata": {},
   "outputs": [],
   "source": [
    "def laplacian_to_adj(laplacian, threshold):\n",
    "    adjacency = -(laplacian - (np.eye(ground_truth_adj.shape[0]) * laplacian))\n",
    "    tmp_adj = np.sign(adjacency - threshold)\n",
    "    tmp_adj[tmp_adj < 0] = 0.0\n",
    "    return tmp_adj"
   ]
  },
  {
   "cell_type": "code",
   "execution_count": 5,
   "id": "a962bb65",
   "metadata": {},
   "outputs": [
    {
     "name": "stdout",
     "output_type": "stream",
     "text": [
      "[ 0.2235723  0.         0.         0.         0.         0.\n",
      "  0.        -0.2235723  0.         0.         0.         0.\n",
      "  0.         0.         0.         0.         0.         0.\n",
      "  0.         0.       ]\n",
      "Diagonal of laplacian:\n",
      " [1. 1. 1. 0. 1. 0. 0. 2. 3. 1. 1. 3. 2. 2. 2. 2. 3. 2. 1. 2.] \n",
      "\n",
      "\n",
      "[ 0.21907827  0.          0.          0.         -0.0574117   0.\n",
      " -0.12528467 -0.03638189  0.          0.          0.          0.\n",
      "  0.          0.          0.          0.          0.          0.\n",
      "  0.          0.        ]\n",
      "Diagonal of laplacian:\n",
      " [3. 1. 2. 2. 2. 2. 3. 4. 1. 3. 3. 2. 2. 2. 1. 1. 2. 2. 1. 1.] \n",
      "\n",
      "\n",
      "[ 0.17011386  0.          0.          0.         -0.02875079  0.\n",
      " -0.14136307  0.          0.          0.          0.          0.\n",
      "  0.          0.          0.          0.          0.          0.\n",
      "  0.          0.        ]\n",
      "Diagonal of laplacian:\n",
      " [2. 2. 2. 3. 2. 2. 2. 3. 4. 2. 4. 3. 3. 4. 2. 2. 2. 3. 2. 3.] \n",
      "\n",
      "\n",
      "[ 0.1774402   0.          0.          0.          0.         -0.01593418\n",
      " -0.1509807  -0.01052532  0.          0.          0.          0.\n",
      "  0.          0.          0.          0.          0.          0.\n",
      "  0.          0.        ]\n",
      "Diagonal of laplacian:\n",
      " [3. 2. 3. 3. 0. 4. 2. 3. 5. 3. 3. 3. 4. 5. 3. 1. 3. 4. 2. 2.] \n",
      "\n",
      "\n",
      "[ 0.16366032  0.          0.          0.          0.         -0.01705562\n",
      " -0.13346294 -0.01314176  0.          0.          0.          0.\n",
      "  0.          0.          0.          0.          0.          0.\n",
      "  0.          0.        ]\n",
      "Diagonal of laplacian:\n",
      " [3. 2. 3. 4. 2. 5. 2. 6. 5. 3. 3. 3. 4. 5. 3. 2. 4. 4. 1. 4.] \n",
      "\n",
      "\n",
      "[ 0.16407655  0.          0.          0.          0.         -0.01340374\n",
      " -0.13705257 -0.01362024  0.          0.          0.          0.\n",
      "  0.          0.          0.          0.          0.          0.\n",
      "  0.          0.        ]\n",
      "Diagonal of laplacian:\n",
      " [3. 2. 3. 4. 1. 5. 2. 5. 4. 3. 3. 3. 5. 5. 3. 2. 4. 5. 1. 3.] \n",
      "\n",
      "\n",
      "[ 0.17230219  0.          0.          0.          0.         -0.02016634\n",
      " -0.13937815 -0.0127577   0.          0.          0.          0.\n",
      "  0.          0.          0.          0.          0.          0.\n",
      "  0.          0.        ]\n",
      "Diagonal of laplacian:\n",
      " [3. 2. 3. 4. 2. 5. 2. 6. 5. 3. 5. 3. 5. 5. 3. 3. 5. 5. 2. 3.] \n",
      "\n",
      "\n",
      "[ 0.16575536  0.          0.          0.          0.         -0.01770603\n",
      " -0.13855408 -0.00949525  0.          0.          0.          0.\n",
      "  0.          0.          0.          0.          0.          0.\n",
      "  0.          0.        ]\n",
      "Diagonal of laplacian:\n",
      " [3. 2. 3. 4. 1. 5. 2. 6. 5. 3. 3. 3. 5. 5. 3. 2. 4. 5. 1. 3.] \n",
      "\n",
      "\n",
      "[ 0.16571894  0.          0.          0.          0.         -0.01710579\n",
      " -0.13856997 -0.01004319  0.          0.          0.          0.\n",
      "  0.          0.          0.          0.          0.          0.\n",
      "  0.          0.        ]\n",
      "Diagonal of laplacian:\n",
      " [3. 2. 3. 4. 1. 5. 2. 6. 5. 3. 4. 3. 5. 5. 3. 2. 5. 5. 1. 3.] \n",
      "\n",
      "\n",
      "[ 0.16641864  0.          0.          0.          0.         -0.01697114\n",
      " -0.13872066 -0.01072685  0.          0.          0.          0.\n",
      "  0.          0.          0.          0.          0.          0.\n",
      "  0.          0.        ]\n",
      "Diagonal of laplacian:\n",
      " [3. 2. 3. 4. 2. 5. 2. 6. 5. 3. 4. 3. 5. 5. 3. 3. 5. 5. 1. 3.] \n",
      "\n",
      "\n",
      "[ 0.1657921   0.          0.          0.          0.         -0.01672184\n",
      " -0.13852917 -0.01054108  0.          0.          0.          0.\n",
      "  0.          0.          0.          0.          0.          0.\n",
      "  0.          0.        ]\n",
      "Diagonal of laplacian:\n",
      " [3. 2. 3. 4. 1. 5. 2. 6. 5. 3. 4. 3. 5. 5. 3. 2. 5. 5. 1. 3.] \n",
      "\n",
      "\n",
      "[ 0.16563326  0.          0.          0.          0.         -0.01688676\n",
      " -0.13828568 -0.01046082  0.          0.          0.          0.\n",
      "  0.          0.          0.          0.          0.          0.\n",
      "  0.          0.        ]\n",
      "Diagonal of laplacian:\n",
      " [3. 2. 3. 4. 1. 5. 2. 6. 5. 3. 4. 3. 5. 5. 3. 2. 5. 5. 1. 3.] \n",
      "\n",
      "\n",
      "[ 0.16575961  0.          0.          0.          0.         -0.01683146\n",
      " -0.13843478 -0.01049337  0.          0.          0.          0.\n",
      "  0.          0.          0.          0.          0.          0.\n",
      "  0.          0.        ]\n",
      "Diagonal of laplacian:\n",
      " [3. 2. 3. 4. 1. 5. 2. 6. 5. 3. 4. 3. 5. 5. 3. 2. 5. 5. 1. 3.] \n",
      "\n",
      "\n",
      "[0.20289855072463767, 0.4594594594594595, 0.65, 0.6746987951807228, 0.7499999999999999, 0.7356321839080459, 0.7912087912087912, 0.7499999999999999, 0.7640449438202247, 0.7777777777777778, 0.7640449438202247, 0.7640449438202247, 0.7640449438202247]\n"
     ]
    }
   ],
   "source": [
    "learned_lap_graphs = []\n",
    "\n",
    "for n_snr, snr in enumerate(SNR_list):\n",
    "    all_graphs = learned_graphs[n_snr * n_pts : (n_snr + 1) * n_pts, : , :]\n",
    "    graphs = all_graphs[-n_data : , : , :]\n",
    "    learned_lap_graphs.append(graphs)\n",
    "\n",
    "learned_lap_graphs = np.array(learned_lap_graphs)\n",
    "f1_scores = []\n",
    "\n",
    "for n_snr, snr in enumerate(SNR_list):\n",
    "    graph_laplacians = learned_lap_graphs[n_snr, :, :, :]\n",
    "    avg_graph = np.sum(graph_laplacians, axis = 0) / graph_laplacians.shape[0]\n",
    "    print(avg_graph[0,:])\n",
    "    avg_graph_adj = laplacian_to_adj(avg_graph, 0.0)\n",
    "    \n",
    "    print(\"Diagonal of laplacian:\\n\", np.sum(avg_graph_adj, axis = 1), \"\\n\\n\")\n",
    "    \n",
    "    f1_scores.append(f1_score(flattened_adj, avg_graph_adj.flatten()))\n",
    "    \n",
    "print(f1_scores)"
   ]
  },
  {
   "cell_type": "code",
   "execution_count": 6,
   "id": "9edc8dad",
   "metadata": {},
   "outputs": [
    {
     "data": {
      "image/png": "[encoded data removed]",
      "text/plain": [
       "<Figure size 640x480 with 1 Axes>"
      ]
     },
     "metadata": {},
     "output_type": "display_data"
    }
   ],
   "source": [
    "plt.plot(SNR_list, f1_scores, marker = \"^\")\n",
    "plt.title(\"F-Score vs SNR w.r.t. Ground Truth graph\")\n",
    "plt.xlabel(\"SNR (in dB)\")\n",
    "plt.ylabel(\"F-Score\")\n",
    "plt.savefig(\"f_score_vs_snr.pdf\")\n",
    "plt.grid()\n",
    "plt.show()"
   ]
  }
 ],
 "metadata": {
  "kernelspec": {
   "display_name": "Python 3 (ipykernel)",
   "language": "python",
   "name": "python3"
  },
  "language_info": {
   "codemirror_mode": {
    "name": "ipython",
    "version": 3
   },
   "file_extension": ".py",
   "mimetype": "text/x-python",
   "name": "python",
   "nbconvert_exporter": "python",
   "pygments_lexer": "ipython3",
   "version": "3.10.13"
  }
 },
 "nbformat": 4,
 "nbformat_minor": 5
}
